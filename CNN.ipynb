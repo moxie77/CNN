{
  "nbformat": 4,
  "nbformat_minor": 0,
  "metadata": {
    "colab": {
      "name": "CNN.ipynb",
      "provenance": []
    },
    "kernelspec": {
      "name": "python3",
      "display_name": "Python 3"
    }
  },
  "cells": [
    {
      "cell_type": "code",
      "metadata": {
        "id": "9tz2rrzL6GCl"
      },
      "source": [
        "#import needed classes\n",
        "import keras\n",
        "from keras.datasets import mnist\n",
        "from keras.layers import Dense,Conv2D,MaxPooling2D,Flatten\n",
        "from keras.models import Model,Input\n",
        "from keras.optimizers import SGD\n",
        "from keras.callbacks import LearningRateScheduler \n",
        "from keras.callbacks import ModelCheckpoint\n",
        "import os\n"
      ],
      "execution_count": 1,
      "outputs": []
    },
    {
      "cell_type": "code",
      "metadata": {
        "colab": {
          "base_uri": "https://localhost:8080/"
        },
        "id": "LlVP10NBldue",
        "outputId": "4882afa2-82bb-404d-a6cf-03e165dbbdb8"
      },
      "source": [
        "#load the mnist dataset\n",
        "(train_x, train_y) , (test_x, test_y) = mnist.load_data()\n",
        "\n",
        "#normalize the data\n",
        "train_x = train_x.astype('float32') / 255\n",
        "test_x = test_x.astype('float32') / 255\n",
        "\n",
        "\n",
        "#print the shapes of the data arrays\n",
        "print(\"Train Images: \",train_x.shape)\n",
        "print(\"Train Labels: \",train_y.shape)\n",
        "print(\"Test Images: \",test_x.shape)\n",
        "print(\"Test Labels: \",test_y.shape)\n",
        "\n",
        "\n",
        "#Reshape from (28,28) to (28,28,1)\n",
        "train_x = train_x.reshape(train_x.shape[0], 28, 28, 1)\n",
        "test_x = test_x.reshape(test_x.shape[0], 28, 28, 1)\n",
        "\n",
        "\n",
        "#Encode the labels to vectors\n",
        "train_y = keras.utils.to_categorical(train_y,10)\n",
        "test_y = keras.utils.to_categorical(test_y,10)"
      ],
      "execution_count": 2,
      "outputs": [
        {
          "output_type": "stream",
          "text": [
            "Downloading data from https://storage.googleapis.com/tensorflow/tf-keras-datasets/mnist.npz\n",
            "11493376/11490434 [==============================] - 0s 0us/step\n",
            "Train Images:  (60000, 28, 28)\n",
            "Train Labels:  (60000,)\n",
            "Test Images:  (10000, 28, 28)\n",
            "Test Labels:  (10000,)\n"
          ],
          "name": "stdout"
        }
      ]
    },
    {
      "cell_type": "code",
      "metadata": {
        "colab": {
          "base_uri": "https://localhost:8080/"
        },
        "id": "fw6RV2xR8ILQ",
        "outputId": "8f66ff51-f792-43a3-e805-0c75085cc432"
      },
      "source": [
        "def MiniModel(input_shape):\n",
        "  images = Input(input_shape)\n",
        "  net =Conv2D(filters=64,kernel_size=[3,3],strides=[1,1],padding=\"same\",activation=\"relu\")(images)\n",
        "  net =Conv2D(filters=64,kernel_size=[3,3],strides=[1,1],padding=\"same\",activation=\"relu\")(net)\n",
        "  net = MaxPooling2D(pool_size=(2,2))(net)\n",
        "  net =Conv2D(filters=128,kernel_size=[3,3],strides=[1,1],padding=\"same\",activation=\"relu\")(net)\n",
        "  net = Conv2D(filters=128, kernel_size=[3, 3], strides=[1, 1], padding=\"same\",activation=\"relu\")(net)\n",
        "  net = Flatten()(net)\n",
        "  net = Dense(units=10,activation=\"softmax\")(net)\n",
        "  model = Model(inputs=images,outputs=net)\n",
        "  return model\n",
        "\n",
        "\n",
        "input_shape = (28,28,1)\n",
        "model = MiniModel(input_shape)\n",
        "#Print a Summary of the model\n",
        "model.summary()"
      ],
      "execution_count": 5,
      "outputs": [
        {
          "output_type": "stream",
          "text": [
            "Model: \"functional_1\"\n",
            "_________________________________________________________________\n",
            "Layer (type)                 Output Shape              Param #   \n",
            "=================================================================\n",
            "input_1 (InputLayer)         [(None, 28, 28, 1)]       0         \n",
            "_________________________________________________________________\n",
            "conv2d (Conv2D)              (None, 28, 28, 64)        640       \n",
            "_________________________________________________________________\n",
            "conv2d_1 (Conv2D)            (None, 28, 28, 64)        36928     \n",
            "_________________________________________________________________\n",
            "max_pooling2d (MaxPooling2D) (None, 14, 14, 64)        0         \n",
            "_________________________________________________________________\n",
            "conv2d_2 (Conv2D)            (None, 14, 14, 128)       73856     \n",
            "_________________________________________________________________\n",
            "conv2d_3 (Conv2D)            (None, 14, 14, 128)       147584    \n",
            "_________________________________________________________________\n",
            "flatten (Flatten)            (None, 25088)             0         \n",
            "_________________________________________________________________\n",
            "dense (Dense)                (None, 10)                250890    \n",
            "=================================================================\n",
            "Total params: 509,898\n",
            "Trainable params: 509,898\n",
            "Non-trainable params: 0\n",
            "_________________________________________________________________\n"
          ],
          "name": "stdout"
        }
      ]
    },
    {
      "cell_type": "code",
      "metadata": {
        "id": "U7PE2DM4ljtl"
      },
      "source": [
        "def lr_schedule(epoch):\n",
        "  lr = 0.1\n",
        "  if epoch > 15:\n",
        "    lr = lr / 100\n",
        "  elif epoch > 10:\n",
        "    lr = lr / 10\n",
        "  elif epoch > 5:\n",
        "    lr = lr / 5\n",
        "\n",
        "  print(\"Learning Rate: \",lr)\n",
        "  return lr\n"
      ],
      "execution_count": 6,
      "outputs": []
    },
    {
      "cell_type": "code",
      "metadata": {
        "colab": {
          "base_uri": "https://localhost:8080/"
        },
        "id": "4Gg9Kg5K8Jeg",
        "outputId": "08e62f1d-0a58-4f5b-f06a-cccbdfc9e948"
      },
      "source": [
        "\n",
        "#Pass the scheduler function to the Learning Rate Scheduler class\n",
        "lr_scheduler = LearningRateScheduler(lr_schedule)\n",
        "\n",
        "#Directory in which to create models\n",
        "save_direc = os.path.join(os.getcwd(), 'mnistsavedmodels')\n",
        "\n",
        "#Name of model files\n",
        "model_name = 'mnistmodel.{epoch:03d}.h5'\n",
        "\n",
        "\n",
        "#Create Directory if it doesn't exist\n",
        "if not os.path.isdir(save_direc):\n",
        "  os.makedirs(save_direc)\n",
        "\n",
        "#Join the directory with the model file\n",
        "modelpath = os.path.join(save_direc, model_name)\n",
        "checkpoint = ModelCheckpoint(filepath=modelpath,monitor='val_acc',verbose=1,save_best_only=True,period=1)\n",
        "\n",
        "#Specify the training components\n",
        "model.compile(optimizer=SGD(lr_schedule(0)),loss=\"categorical_crossentropy\",metrics=[\"accuracy\"])\n",
        "#Fit the model\n",
        "model.fit(train_x,train_y,batch_size=32,epochs=2,shuffle=True,validation_split=0.1,verbose=1,callbacks=[checkpoint,lr_scheduler])\n",
        "#Evaluate the accuracy of the test dataset\n",
        "accuracy = model.evaluate(x=test_x,y=test_y,batch_size=32)\n",
        "print(\"Accuracy: \",accuracy[1])"
      ],
      "execution_count": 7,
      "outputs": [
        {
          "output_type": "stream",
          "text": [
            "WARNING:tensorflow:`period` argument is deprecated. Please use `save_freq` to specify the frequency in number of batches seen.\n",
            "Learning Rate:  0.1\n",
            "Learning Rate:  0.1\n",
            "Epoch 1/2\n",
            "1688/1688 [==============================] - ETA: 0s - loss: 0.1699 - accuracy: 0.9474WARNING:tensorflow:Can save best model only with val_acc available, skipping.\n",
            "1688/1688 [==============================] - 591s 350ms/step - loss: 0.1699 - accuracy: 0.9474 - val_loss: 0.0560 - val_accuracy: 0.9845\n",
            "Learning Rate:  0.1\n",
            "Epoch 2/2\n",
            "1688/1688 [==============================] - ETA: 0s - loss: 0.0490 - accuracy: 0.9847WARNING:tensorflow:Can save best model only with val_acc available, skipping.\n",
            "1688/1688 [==============================] - 588s 349ms/step - loss: 0.0490 - accuracy: 0.9847 - val_loss: 0.0409 - val_accuracy: 0.9890\n",
            "313/313 [==============================] - 28s 89ms/step - loss: 0.0350 - accuracy: 0.9879\n",
            "Accuracy:  0.9879000186920166\n"
          ],
          "name": "stdout"
        }
      ]
    },
    {
      "cell_type": "code",
      "metadata": {
        "id": "-yzfbVmH9dEg"
      },
      "source": [
        "model.save('mnistmodel.h5')"
      ],
      "execution_count": 8,
      "outputs": []
    },
    {
      "cell_type": "code",
      "metadata": {
        "id": "6Oys7IH-5ng-"
      },
      "source": [
        "model.load_weights('mnistmodel.h5')"
      ],
      "execution_count": 9,
      "outputs": []
    },
    {
      "cell_type": "code",
      "metadata": {
        "id": "eFi1eQ375zRp"
      },
      "source": [
        "test_img = test_x[4]"
      ],
      "execution_count": 10,
      "outputs": []
    },
    {
      "cell_type": "code",
      "metadata": {
        "id": "0n3FBFc56I7f"
      },
      "source": [
        "import matplotlib.pyplot as plt\n",
        "%matplotlib inline"
      ],
      "execution_count": 11,
      "outputs": []
    },
    {
      "cell_type": "code",
      "metadata": {
        "id": "e-0HFzrF6QkK"
      },
      "source": [
        "test_img = test_img.reshape(28,28)"
      ],
      "execution_count": 12,
      "outputs": []
    },
    {
      "cell_type": "code",
      "metadata": {
        "colab": {
          "base_uri": "https://localhost:8080/",
          "height": 282
        },
        "id": "lk-53GQ56Zb9",
        "outputId": "9bc3b138-2199-4011-9c06-ebcf413e80f3"
      },
      "source": [
        "plt.imshow(test_img)"
      ],
      "execution_count": 13,
      "outputs": [
        {
          "output_type": "execute_result",
          "data": {
            "text/plain": [
              "<matplotlib.image.AxesImage at 0x7fe0939b9400>"
            ]
          },
          "metadata": {
            "tags": []
          },
          "execution_count": 13
        },
        {
          "output_type": "display_data",
          "data": {
            "image/png": "[encoded data removed]",
            "text/plain": [
              "<Figure size 432x288 with 1 Axes>"
            ]
          },
          "metadata": {
            "tags": [],
            "needs_background": "light"
          }
        }
      ]
    },
    {
      "cell_type": "code",
      "metadata": {
        "colab": {
          "base_uri": "https://localhost:8080/"
        },
        "id": "T8b1utxB6hjL",
        "outputId": "c8e5cb6c-a202-4249-ffbb-602631483bc7"
      },
      "source": [
        "import numpy as np\n",
        "test_img = test_img.reshape(1,28,28,1)\n",
        "test_img.shape\n",
        "img_class = np.argmax(model.predict(test_img),axis=-1)\n",
        "classname = img_class[0]\n",
        "print(\"class :\",classname)"
      ],
      "execution_count": 15,
      "outputs": [
        {
          "output_type": "stream",
          "text": [
            "class : 4\n"
          ],
          "name": "stdout"
        }
      ]
    },
    {
      "cell_type": "code",
      "metadata": {
        "colab": {
          "base_uri": "https://localhost:8080/",
          "height": 281
        },
        "id": "mQW7CtPA7Xq_",
        "outputId": "a77b1e95-7d26-4c7c-bd65-f840aa884fb9"
      },
      "source": [
        "plt.title(\"prediction Result: %s\"%(classname))\n",
        "test_img = test_img.reshape(28,28)\n",
        "plt.imshow(test_img)\n",
        "plt.show()"
      ],
      "execution_count": 16,
      "outputs": [
        {
          "output_type": "display_data",
          "data": {
            "image/png": "[encoded data removed]",
            "text/plain": [
              "<Figure size 432x288 with 1 Axes>"
            ]
          },
          "metadata": {
            "tags": [],
            "needs_background": "light"
          }
        }
      ]
    },
    {
      "cell_type": "code",
      "metadata": {
        "id": "lXkvzyfl77Hh"
      },
      "source": [
        ""
      ],
      "execution_count": null,
      "outputs": []
    }
  ]
}